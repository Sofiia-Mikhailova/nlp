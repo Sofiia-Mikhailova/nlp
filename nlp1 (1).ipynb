{
 "cells": [
  {
   "cell_type": "raw",
   "id": "acc9ab14",
   "metadata": {},
   "source": [
    "#знак оклику потрібний для того щоб передати це в термінал,без знаку оклику можна це зробити відкриваючи термінал"
   ]
  },
  {
   "cell_type": "code",
   "execution_count": 5,
   "id": "ab01d243",
   "metadata": {},
   "outputs": [
    {
     "name": "stdout",
     "output_type": "stream",
     "text": [
      "Requirement already satisfied: nltk in c:\\users\\hp\\anaconda3\\lib\\site-packages (3.7)\n",
      "Requirement already satisfied: regex>=2021.8.3 in c:\\users\\hp\\anaconda3\\lib\\site-packages (from nltk) (2022.7.9)\n",
      "Requirement already satisfied: click in c:\\users\\hp\\anaconda3\\lib\\site-packages (from nltk) (8.0.4)\n",
      "Requirement already satisfied: joblib in c:\\users\\hp\\anaconda3\\lib\\site-packages (from nltk) (1.1.1)\n",
      "Requirement already satisfied: tqdm in c:\\users\\hp\\anaconda3\\lib\\site-packages (from nltk) (4.64.1)\n",
      "Requirement already satisfied: colorama in c:\\users\\hp\\anaconda3\\lib\\site-packages (from click->nltk) (0.4.6)\n",
      "Requirement already satisfied: matplotlib in c:\\users\\hp\\anaconda3\\lib\\site-packages (3.7.0)\n",
      "Requirement already satisfied: cycler>=0.10 in c:\\users\\hp\\anaconda3\\lib\\site-packages (from matplotlib) (0.11.0)\n",
      "Requirement already satisfied: contourpy>=1.0.1 in c:\\users\\hp\\anaconda3\\lib\\site-packages (from matplotlib) (1.0.5)\n",
      "Requirement already satisfied: pyparsing>=2.3.1 in c:\\users\\hp\\anaconda3\\lib\\site-packages (from matplotlib) (3.0.9)\n",
      "Requirement already satisfied: kiwisolver>=1.0.1 in c:\\users\\hp\\anaconda3\\lib\\site-packages (from matplotlib) (1.4.4)\n",
      "Requirement already satisfied: packaging>=20.0 in c:\\users\\hp\\anaconda3\\lib\\site-packages (from matplotlib) (22.0)\n",
      "Requirement already satisfied: pillow>=6.2.0 in c:\\users\\hp\\anaconda3\\lib\\site-packages (from matplotlib) (9.4.0)\n",
      "Requirement already satisfied: numpy>=1.20 in c:\\users\\hp\\anaconda3\\lib\\site-packages (from matplotlib) (1.24.4)\n",
      "Requirement already satisfied: fonttools>=4.22.0 in c:\\users\\hp\\anaconda3\\lib\\site-packages (from matplotlib) (4.25.0)\n",
      "Requirement already satisfied: python-dateutil>=2.7 in c:\\users\\hp\\anaconda3\\lib\\site-packages (from matplotlib) (2.8.2)\n",
      "Requirement already satisfied: six>=1.5 in c:\\users\\hp\\anaconda3\\lib\\site-packages (from python-dateutil>=2.7->matplotlib) (1.16.0)\n"
     ]
    }
   ],
   "source": [
    "!pip install nltk \n",
    "!pip install matplotlib"
   ]
  },
  {
   "cell_type": "code",
   "execution_count": 6,
   "id": "3c5a7c07",
   "metadata": {},
   "outputs": [
    {
     "name": "stderr",
     "output_type": "stream",
     "text": [
      "[nltk_data] Downloading collection 'popular'\n",
      "[nltk_data]    | \n",
      "[nltk_data]    | Downloading package cmudict to\n",
      "[nltk_data]    |     C:\\Users\\HP\\AppData\\Roaming\\nltk_data...\n",
      "[nltk_data]    |   Package cmudict is already up-to-date!\n",
      "[nltk_data]    | Downloading package gazetteers to\n",
      "[nltk_data]    |     C:\\Users\\HP\\AppData\\Roaming\\nltk_data...\n",
      "[nltk_data]    |   Package gazetteers is already up-to-date!\n",
      "[nltk_data]    | Downloading package genesis to\n",
      "[nltk_data]    |     C:\\Users\\HP\\AppData\\Roaming\\nltk_data...\n",
      "[nltk_data]    |   Package genesis is already up-to-date!\n",
      "[nltk_data]    | Downloading package gutenberg to\n",
      "[nltk_data]    |     C:\\Users\\HP\\AppData\\Roaming\\nltk_data...\n",
      "[nltk_data]    |   Package gutenberg is already up-to-date!\n",
      "[nltk_data]    | Downloading package inaugural to\n",
      "[nltk_data]    |     C:\\Users\\HP\\AppData\\Roaming\\nltk_data...\n",
      "[nltk_data]    |   Package inaugural is already up-to-date!\n",
      "[nltk_data]    | Downloading package movie_reviews to\n",
      "[nltk_data]    |     C:\\Users\\HP\\AppData\\Roaming\\nltk_data...\n",
      "[nltk_data]    |   Package movie_reviews is already up-to-date!\n",
      "[nltk_data]    | Downloading package names to\n",
      "[nltk_data]    |     C:\\Users\\HP\\AppData\\Roaming\\nltk_data...\n",
      "[nltk_data]    |   Package names is already up-to-date!\n",
      "[nltk_data]    | Downloading package shakespeare to\n",
      "[nltk_data]    |     C:\\Users\\HP\\AppData\\Roaming\\nltk_data...\n",
      "[nltk_data]    |   Package shakespeare is already up-to-date!\n",
      "[nltk_data]    | Downloading package stopwords to\n",
      "[nltk_data]    |     C:\\Users\\HP\\AppData\\Roaming\\nltk_data...\n",
      "[nltk_data]    |   Package stopwords is already up-to-date!\n",
      "[nltk_data]    | Downloading package treebank to\n",
      "[nltk_data]    |     C:\\Users\\HP\\AppData\\Roaming\\nltk_data...\n",
      "[nltk_data]    |   Package treebank is already up-to-date!\n",
      "[nltk_data]    | Downloading package twitter_samples to\n",
      "[nltk_data]    |     C:\\Users\\HP\\AppData\\Roaming\\nltk_data...\n",
      "[nltk_data]    |   Package twitter_samples is already up-to-date!\n",
      "[nltk_data]    | Downloading package omw to\n",
      "[nltk_data]    |     C:\\Users\\HP\\AppData\\Roaming\\nltk_data...\n",
      "[nltk_data]    |   Package omw is already up-to-date!\n",
      "[nltk_data]    | Downloading package omw-1.4 to\n",
      "[nltk_data]    |     C:\\Users\\HP\\AppData\\Roaming\\nltk_data...\n",
      "[nltk_data]    |   Package omw-1.4 is already up-to-date!\n",
      "[nltk_data]    | Downloading package wordnet to\n",
      "[nltk_data]    |     C:\\Users\\HP\\AppData\\Roaming\\nltk_data...\n",
      "[nltk_data]    |   Package wordnet is already up-to-date!\n",
      "[nltk_data]    | Downloading package wordnet2021 to\n",
      "[nltk_data]    |     C:\\Users\\HP\\AppData\\Roaming\\nltk_data...\n",
      "[nltk_data]    |   Package wordnet2021 is already up-to-date!\n",
      "[nltk_data]    | Downloading package wordnet31 to\n",
      "[nltk_data]    |     C:\\Users\\HP\\AppData\\Roaming\\nltk_data...\n",
      "[nltk_data]    |   Package wordnet31 is already up-to-date!\n",
      "[nltk_data]    | Downloading package wordnet_ic to\n",
      "[nltk_data]    |     C:\\Users\\HP\\AppData\\Roaming\\nltk_data...\n",
      "[nltk_data]    |   Package wordnet_ic is already up-to-date!\n",
      "[nltk_data]    | Downloading package words to\n",
      "[nltk_data]    |     C:\\Users\\HP\\AppData\\Roaming\\nltk_data...\n",
      "[nltk_data]    |   Package words is already up-to-date!\n",
      "[nltk_data]    | Downloading package maxent_ne_chunker to\n",
      "[nltk_data]    |     C:\\Users\\HP\\AppData\\Roaming\\nltk_data...\n",
      "[nltk_data]    |   Package maxent_ne_chunker is already up-to-date!\n",
      "[nltk_data]    | Downloading package punkt to\n",
      "[nltk_data]    |     C:\\Users\\HP\\AppData\\Roaming\\nltk_data...\n",
      "[nltk_data]    |   Package punkt is already up-to-date!\n",
      "[nltk_data]    | Downloading package snowball_data to\n",
      "[nltk_data]    |     C:\\Users\\HP\\AppData\\Roaming\\nltk_data...\n",
      "[nltk_data]    |   Package snowball_data is already up-to-date!\n",
      "[nltk_data]    | Downloading package averaged_perceptron_tagger to\n",
      "[nltk_data]    |     C:\\Users\\HP\\AppData\\Roaming\\nltk_data...\n",
      "[nltk_data]    |   Package averaged_perceptron_tagger is already up-\n",
      "[nltk_data]    |       to-date!\n",
      "[nltk_data]    | \n",
      "[nltk_data]  Done downloading collection popular\n"
     ]
    },
    {
     "data": {
      "text/plain": [
       "True"
      ]
     },
     "execution_count": 6,
     "metadata": {},
     "output_type": "execute_result"
    }
   ],
   "source": [
    "import nltk\n",
    "nltk.download('popular')"
   ]
  },
  {
   "cell_type": "code",
   "execution_count": 7,
   "id": "32b716cb",
   "metadata": {},
   "outputs": [
    {
     "name": "stderr",
     "output_type": "stream",
     "text": [
      "[nltk_data] Downloading package nps_chat to\n",
      "[nltk_data]     C:\\Users\\HP\\AppData\\Roaming\\nltk_data...\n",
      "[nltk_data]   Package nps_chat is already up-to-date!\n",
      "[nltk_data] Downloading package webtext to\n",
      "[nltk_data]     C:\\Users\\HP\\AppData\\Roaming\\nltk_data...\n",
      "[nltk_data]   Package webtext is already up-to-date!\n"
     ]
    },
    {
     "name": "stdout",
     "output_type": "stream",
     "text": [
      "*** Introductory Examples for the NLTK Book ***\n",
      "Loading text1, ..., text9 and sent1, ..., sent9\n",
      "Type the name of the text or sentence to view it.\n",
      "Type: 'texts()' or 'sents()' to list the materials.\n",
      "text1: Moby Dick by Herman Melville 1851\n",
      "text2: Sense and Sensibility by Jane Austen 1811\n",
      "text3: The Book of Genesis\n",
      "text4: Inaugural Address Corpus\n",
      "text5: Chat Corpus\n",
      "text6: Monty Python and the Holy Grail\n",
      "text7: Wall Street Journal\n",
      "text8: Personals Corpus\n",
      "text9: The Man Who Was Thursday by G . K . Chesterton 1908\n"
     ]
    }
   ],
   "source": [
    "import nltk\n",
    "nltk.download('nps_chat')\n",
    "nltk.download('webtext')\n",
    "from nltk.book import *"
   ]
  },
  {
   "cell_type": "raw",
   "id": "07413a1e",
   "metadata": {},
   "source": [
    "#запустилось без знаку оклику бо був включений термінал"
   ]
  },
  {
   "cell_type": "code",
   "execution_count": 9,
   "id": "cf1bc806",
   "metadata": {
    "scrolled": true
   },
   "outputs": [
    {
     "name": "stdout",
     "output_type": "stream",
     "text": [
      "Requirement already satisfied: spacy in c:\\users\\hp\\anaconda3\\lib\\site-packages (3.8.5)\n",
      "Requirement already satisfied: scattertext in c:\\users\\hp\\anaconda3\\lib\\site-packages (0.1.19)\n",
      "Requirement already satisfied: wasabi<1.2.0,>=0.9.1 in c:\\users\\hp\\anaconda3\\lib\\site-packages (from spacy) (1.1.3)\n",
      "Requirement already satisfied: requests<3.0.0,>=2.13.0 in c:\\users\\hp\\anaconda3\\lib\\site-packages (from spacy) (2.28.1)\n",
      "Requirement already satisfied: murmurhash<1.1.0,>=0.28.0 in c:\\users\\hp\\anaconda3\\lib\\site-packages (from spacy) (1.0.12)\n",
      "Requirement already satisfied: tqdm<5.0.0,>=4.38.0 in c:\\users\\hp\\anaconda3\\lib\\site-packages (from spacy) (4.64.1)\n",
      "Requirement already satisfied: weasel<0.5.0,>=0.1.0 in c:\\users\\hp\\anaconda3\\lib\\site-packages (from spacy) (0.4.1)\n",
      "Requirement already satisfied: catalogue<2.1.0,>=2.0.6 in c:\\users\\hp\\anaconda3\\lib\\site-packages (from spacy) (2.0.10)\n",
      "Requirement already satisfied: spacy-loggers<2.0.0,>=1.0.0 in c:\\users\\hp\\anaconda3\\lib\\site-packages (from spacy) (1.0.5)\n",
      "Requirement already satisfied: preshed<3.1.0,>=3.0.2 in c:\\users\\hp\\anaconda3\\lib\\site-packages (from spacy) (3.0.9)\n",
      "Requirement already satisfied: packaging>=20.0 in c:\\users\\hp\\anaconda3\\lib\\site-packages (from spacy) (22.0)\n",
      "Requirement already satisfied: spacy-legacy<3.1.0,>=3.0.11 in c:\\users\\hp\\anaconda3\\lib\\site-packages (from spacy) (3.0.12)\n",
      "Requirement already satisfied: typer<1.0.0,>=0.3.0 in c:\\users\\hp\\anaconda3\\lib\\site-packages (from spacy) (0.15.2)\n",
      "Requirement already satisfied: jinja2 in c:\\users\\hp\\anaconda3\\lib\\site-packages (from spacy) (3.1.2)\n",
      "Requirement already satisfied: setuptools in c:\\users\\hp\\anaconda3\\lib\\site-packages (from spacy) (65.6.3)\n",
      "Requirement already satisfied: langcodes<4.0.0,>=3.2.0 in c:\\users\\hp\\anaconda3\\lib\\site-packages (from spacy) (3.5.0)\n",
      "Requirement already satisfied: srsly<3.0.0,>=2.4.3 in c:\\users\\hp\\anaconda3\\lib\\site-packages (from spacy) (2.5.1)\n",
      "Requirement already satisfied: thinc<8.4.0,>=8.3.4 in c:\\users\\hp\\anaconda3\\lib\\site-packages (from spacy) (8.3.4)\n",
      "Requirement already satisfied: cymem<2.1.0,>=2.0.2 in c:\\users\\hp\\anaconda3\\lib\\site-packages (from spacy) (2.0.11)\n",
      "Requirement already satisfied: pydantic!=1.8,!=1.8.1,<3.0.0,>=1.7.4 in c:\\users\\hp\\anaconda3\\lib\\site-packages (from spacy) (2.11.3)\n",
      "Requirement already satisfied: numpy>=1.19.0 in c:\\users\\hp\\anaconda3\\lib\\site-packages (from spacy) (1.24.4)\n",
      "Requirement already satisfied: scipy in c:\\users\\hp\\anaconda3\\lib\\site-packages (from scattertext) (1.10.1)\n",
      "Requirement already satisfied: statsmodels in c:\\users\\hp\\anaconda3\\lib\\site-packages (from scattertext) (0.13.5)\n",
      "Requirement already satisfied: flashtext in c:\\users\\hp\\anaconda3\\lib\\site-packages (from scattertext) (2.7)\n",
      "Requirement already satisfied: pandas in c:\\users\\hp\\anaconda3\\lib\\site-packages (from scattertext) (1.5.3)\n",
      "Requirement already satisfied: scikit-learn in c:\\users\\hp\\anaconda3\\lib\\site-packages (from scattertext) (1.2.1)\n",
      "Requirement already satisfied: gensim>=4.0.0 in c:\\users\\hp\\anaconda3\\lib\\site-packages (from scattertext) (4.3.0)\n",
      "Requirement already satisfied: smart-open>=1.8.1 in c:\\users\\hp\\anaconda3\\lib\\site-packages (from gensim>=4.0.0->scattertext) (5.2.1)\n",
      "Requirement already satisfied: FuzzyTM>=0.4.0 in c:\\users\\hp\\anaconda3\\lib\\site-packages (from gensim>=4.0.0->scattertext) (2.0.9)\n",
      "Requirement already satisfied: language-data>=1.2 in c:\\users\\hp\\anaconda3\\lib\\site-packages (from langcodes<4.0.0,>=3.2.0->spacy) (1.3.0)\n",
      "Requirement already satisfied: typing-inspection>=0.4.0 in c:\\users\\hp\\anaconda3\\lib\\site-packages (from pydantic!=1.8,!=1.8.1,<3.0.0,>=1.7.4->spacy) (0.4.0)\n",
      "Requirement already satisfied: annotated-types>=0.6.0 in c:\\users\\hp\\anaconda3\\lib\\site-packages (from pydantic!=1.8,!=1.8.1,<3.0.0,>=1.7.4->spacy) (0.7.0)\n",
      "Requirement already satisfied: pydantic-core==2.33.1 in c:\\users\\hp\\anaconda3\\lib\\site-packages (from pydantic!=1.8,!=1.8.1,<3.0.0,>=1.7.4->spacy) (2.33.1)\n",
      "Requirement already satisfied: typing-extensions>=4.12.2 in c:\\users\\hp\\anaconda3\\lib\\site-packages (from pydantic!=1.8,!=1.8.1,<3.0.0,>=1.7.4->spacy) (4.12.2)\n",
      "Requirement already satisfied: charset-normalizer<3,>=2 in c:\\users\\hp\\anaconda3\\lib\\site-packages (from requests<3.0.0,>=2.13.0->spacy) (2.0.4)\n",
      "Requirement already satisfied: certifi>=2017.4.17 in c:\\users\\hp\\anaconda3\\lib\\site-packages (from requests<3.0.0,>=2.13.0->spacy) (2023.7.22)\n",
      "Requirement already satisfied: urllib3<1.27,>=1.21.1 in c:\\users\\hp\\anaconda3\\lib\\site-packages (from requests<3.0.0,>=2.13.0->spacy) (1.26.14)\n",
      "Requirement already satisfied: idna<4,>=2.5 in c:\\users\\hp\\anaconda3\\lib\\site-packages (from requests<3.0.0,>=2.13.0->spacy) (3.4)\n",
      "Requirement already satisfied: confection<1.0.0,>=0.0.1 in c:\\users\\hp\\anaconda3\\lib\\site-packages (from thinc<8.4.0,>=8.3.4->spacy) (0.1.5)\n",
      "Requirement already satisfied: blis<1.3.0,>=1.2.0 in c:\\users\\hp\\anaconda3\\lib\\site-packages (from thinc<8.4.0,>=8.3.4->spacy) (1.2.1)\n",
      "Requirement already satisfied: colorama in c:\\users\\hp\\anaconda3\\lib\\site-packages (from tqdm<5.0.0,>=4.38.0->spacy) (0.4.6)\n",
      "Requirement already satisfied: shellingham>=1.3.0 in c:\\users\\hp\\anaconda3\\lib\\site-packages (from typer<1.0.0,>=0.3.0->spacy) (1.5.4)\n",
      "Requirement already satisfied: click>=8.0.0 in c:\\users\\hp\\anaconda3\\lib\\site-packages (from typer<1.0.0,>=0.3.0->spacy) (8.0.4)\n",
      "Requirement already satisfied: rich>=10.11.0 in c:\\users\\hp\\anaconda3\\lib\\site-packages (from typer<1.0.0,>=0.3.0->spacy) (13.9.4)\n",
      "Requirement already satisfied: cloudpathlib<1.0.0,>=0.7.0 in c:\\users\\hp\\anaconda3\\lib\\site-packages (from weasel<0.5.0,>=0.1.0->spacy) (0.21.0)\n",
      "Requirement already satisfied: MarkupSafe>=2.0 in c:\\users\\hp\\anaconda3\\lib\\site-packages (from jinja2->spacy) (2.1.1)\n",
      "Requirement already satisfied: python-dateutil>=2.8.1 in c:\\users\\hp\\anaconda3\\lib\\site-packages (from pandas->scattertext) (2.8.2)\n",
      "Requirement already satisfied: pytz>=2020.1 in c:\\users\\hp\\anaconda3\\lib\\site-packages (from pandas->scattertext) (2022.7)\n",
      "Requirement already satisfied: threadpoolctl>=2.0.0 in c:\\users\\hp\\anaconda3\\lib\\site-packages (from scikit-learn->scattertext) (2.2.0)\n",
      "Requirement already satisfied: joblib>=1.1.1 in c:\\users\\hp\\anaconda3\\lib\\site-packages (from scikit-learn->scattertext) (1.1.1)\n",
      "Requirement already satisfied: patsy>=0.5.2 in c:\\users\\hp\\anaconda3\\lib\\site-packages (from statsmodels->scattertext) (0.5.3)\n",
      "Requirement already satisfied: pyfume in c:\\users\\hp\\anaconda3\\lib\\site-packages (from FuzzyTM>=0.4.0->gensim>=4.0.0->scattertext) (0.3.4)\n",
      "Requirement already satisfied: marisa-trie>=1.1.0 in c:\\users\\hp\\anaconda3\\lib\\site-packages (from language-data>=1.2->langcodes<4.0.0,>=3.2.0->spacy) (1.2.1)\n",
      "Requirement already satisfied: six in c:\\users\\hp\\anaconda3\\lib\\site-packages (from patsy>=0.5.2->statsmodels->scattertext) (1.16.0)\n",
      "Requirement already satisfied: pygments<3.0.0,>=2.13.0 in c:\\users\\hp\\anaconda3\\lib\\site-packages (from rich>=10.11.0->typer<1.0.0,>=0.3.0->spacy) (2.18.0)\n",
      "Requirement already satisfied: markdown-it-py>=2.2.0 in c:\\users\\hp\\anaconda3\\lib\\site-packages (from rich>=10.11.0->typer<1.0.0,>=0.3.0->spacy) (3.0.0)\n",
      "Requirement already satisfied: mdurl~=0.1 in c:\\users\\hp\\anaconda3\\lib\\site-packages (from markdown-it-py>=2.2.0->rich>=10.11.0->typer<1.0.0,>=0.3.0->spacy) (0.1.2)\n",
      "Requirement already satisfied: simpful==2.12.0 in c:\\users\\hp\\anaconda3\\lib\\site-packages (from pyfume->FuzzyTM>=0.4.0->gensim>=4.0.0->scattertext) (2.12.0)\n",
      "Requirement already satisfied: fst-pso==1.8.1 in c:\\users\\hp\\anaconda3\\lib\\site-packages (from pyfume->FuzzyTM>=0.4.0->gensim>=4.0.0->scattertext) (1.8.1)\n",
      "Requirement already satisfied: miniful in c:\\users\\hp\\anaconda3\\lib\\site-packages (from fst-pso==1.8.1->pyfume->FuzzyTM>=0.4.0->gensim>=4.0.0->scattertext) (0.0.6)\n",
      "Note: you may need to restart the kernel to use updated packages.\n"
     ]
    }
   ],
   "source": [
    "pip install spacy scattertext "
   ]
  },
  {
   "cell_type": "code",
   "execution_count": 10,
   "id": "e071ff87",
   "metadata": {},
   "outputs": [
    {
     "name": "stdout",
     "output_type": "stream",
     "text": [
      "Collecting en-core-web-sm==3.8.0\n",
      "  Downloading https://github.com/explosion/spacy-models/releases/download/en_core_web_sm-3.8.0/en_core_web_sm-3.8.0-py3-none-any.whl (12.8 MB)\n",
      "     --------------------------------------- 12.8/12.8 MB 38.4 MB/s eta 0:00:00\n",
      "\u001b[38;5;2m[+] Download and installation successful\u001b[0m\n",
      "You can now load the package via spacy.load('en_core_web_sm')\n"
     ]
    }
   ],
   "source": [
    "!python -m spacy download en_core_web_sm"
   ]
  },
  {
   "cell_type": "code",
   "execution_count": 11,
   "id": "72c140e6",
   "metadata": {},
   "outputs": [
    {
     "name": "stdout",
     "output_type": "stream",
     "text": [
      "Displaying 25 of 112 matches:\n",
      "nning God created the heaven and the earth . And the earth was without form , a\n",
      "d the heaven and the earth . And the earth was without form , and void ; and da\n",
      "was so . And God called the dry land Earth ; and the gathering together of the \n",
      "it was good . And God said , Let the earth bring forth grass , the herb yieldin\n",
      "upon the ear and it was so . And the earth brought forth grass , and herb yield\n",
      "of the heaven to give light upon the earth , And to rule over the day and over \n",
      "fe , and fowl that may fly above the earth in the open firmament of heaven . An\n",
      " seas , and let fowl multiply in the earth . And the evening and the morning we\n",
      "e fifth day . And God said , Let the earth bring forth the living creature afte\n",
      "nd creeping thing , and beast of the earth after his ki and it was so . And God\n",
      "s so . And God made the beast of the earth after his kind , and cattle after th\n",
      "d every thing that creepeth upon the earth after his ki and God saw that it was\n",
      "d over the cattle , and over all the earth , and over every creeping thing that\n",
      "reeping thing that creepeth upon the earth . So God created man in his own imag\n",
      "l , and multiply , and replenish the earth , and subdue and have dominion over \n",
      "ry living thing that moveth upon the earth . And God said , Behold , I have giv\n",
      " , which is upon the face of all the earth , and every tree , in the which is t\n",
      "for meat . And to every beast of the earth , and to every fowl of the air , and\n",
      "o every thing that creepeth upon the earth , wherein there is life , I have giv\n",
      "sixth day . Thus the heavens and the earth were finished , and all the host of \n",
      "enerations of the heavens and of the earth when they were created , in the day \n",
      "n the day that the LORD God made the earth and the heavens , And every plant of\n",
      "nt of the field before it was in the earth , and every herb of the field before\n",
      "d had not caused it to rain upon the earth , and there was not a man to till th\n",
      " . But there went up a mist from the earth , and watered the whole face of the \n"
     ]
    }
   ],
   "source": [
    "text3.concordance(\"earth\")"
   ]
  },
  {
   "cell_type": "code",
   "execution_count": 12,
   "id": "7ea554b5",
   "metadata": {},
   "outputs": [
    {
     "name": "stdout",
     "output_type": "stream",
     "text": [
      "land lord men place woman earth waters well city lad day cattle field\n",
      "wife way flood servant people famine pillar\n"
     ]
    }
   ],
   "source": [
    "text3.similar(\"man\")"
   ]
  },
  {
   "cell_type": "code",
   "execution_count": 13,
   "id": "27a2f106",
   "metadata": {},
   "outputs": [
    {
     "data": {
      "image/png": "[encoded data removed]",
      "text/plain": [
       "<Figure size 640x480 with 1 Axes>"
      ]
     },
     "metadata": {},
     "output_type": "display_data"
    }
   ],
   "source": [
    "text3.dispersion_plot([\"man\", \"earth\"])"
   ]
  },
  {
   "cell_type": "code",
   "execution_count": 14,
   "id": "3e7290dd",
   "metadata": {},
   "outputs": [
    {
     "name": "stdout",
     "output_type": "stream",
     "text": [
      "<FreqDist with 2789 samples and 44764 outcomes>\n"
     ]
    }
   ],
   "source": [
    "fdist = FreqDist(text3)\n",
    "print(fdist)"
   ]
  },
  {
   "cell_type": "code",
   "execution_count": 15,
   "id": "ee766eff",
   "metadata": {},
   "outputs": [
    {
     "data": {
      "text/plain": [
       "[(',', 3681),\n",
       " ('and', 2428),\n",
       " ('the', 2411),\n",
       " ('of', 1358),\n",
       " ('.', 1315),\n",
       " ('And', 1250),\n",
       " ('his', 651),\n",
       " ('he', 648),\n",
       " ('to', 611),\n",
       " (';', 605),\n",
       " ('unto', 590),\n",
       " ('in', 588),\n",
       " ('that', 509),\n",
       " ('I', 484),\n",
       " ('said', 476),\n",
       " ('him', 387),\n",
       " ('a', 342),\n",
       " ('my', 325),\n",
       " ('was', 317),\n",
       " ('for', 297),\n",
       " ('it', 290),\n",
       " ('with', 289),\n",
       " ('me', 282),\n",
       " ('thou', 272),\n",
       " (\"'\", 268),\n",
       " ('is', 267),\n",
       " ('thy', 267),\n",
       " ('s', 263),\n",
       " ('thee', 257),\n",
       " ('be', 254),\n",
       " ('shall', 253),\n",
       " ('they', 249),\n",
       " ('all', 245),\n",
       " (':', 238),\n",
       " ('God', 231),\n",
       " ('them', 230),\n",
       " ('not', 224),\n",
       " ('which', 198),\n",
       " ('father', 198),\n",
       " ('will', 195),\n",
       " ('land', 184),\n",
       " ('Jacob', 179),\n",
       " ('came', 177),\n",
       " ('her', 173),\n",
       " ('LORD', 166),\n",
       " ('were', 163),\n",
       " ('she', 161),\n",
       " ('from', 157),\n",
       " ('Joseph', 157),\n",
       " ('their', 153)]"
      ]
     },
     "execution_count": 15,
     "metadata": {},
     "output_type": "execute_result"
    }
   ],
   "source": [
    "fdist.most_common(50)"
   ]
  },
  {
   "cell_type": "code",
   "execution_count": 16,
   "id": "b672f322",
   "metadata": {
    "scrolled": false
   },
   "outputs": [
    {
     "data": {
      "image/png": "[encoded data removed]",
      "text/plain": [
       "<Figure size 640x480 with 1 Axes>"
      ]
     },
     "metadata": {},
     "output_type": "display_data"
    },
    {
     "data": {
      "text/plain": [
       "<Axes: xlabel='Samples', ylabel='Cumulative Counts'>"
      ]
     },
     "execution_count": 16,
     "metadata": {},
     "output_type": "execute_result"
    }
   ],
   "source": [
    "fdist.plot(50, cumulative=True)"
   ]
  },
  {
   "cell_type": "markdown",
   "id": "335f4d5a",
   "metadata": {},
   "source": [
    "Task 1.1 "
   ]
  },
  {
   "cell_type": "code",
   "execution_count": 17,
   "id": "e898b398",
   "metadata": {},
   "outputs": [],
   "source": [
    "#визначенння тексту\n",
    "P = 15\n",
    "N = P % 8\n",
    "texts = [text1, text2, text3, text4, text5, text6, text7, text8, text9]\n",
    "textN = texts[N]"
   ]
  },
  {
   "cell_type": "code",
   "execution_count": 23,
   "id": "c07357da",
   "metadata": {},
   "outputs": [
    {
     "name": "stdout",
     "output_type": "stream",
     "text": [
      "7\n"
     ]
    }
   ],
   "source": [
    "print(N)"
   ]
  },
  {
   "cell_type": "code",
   "execution_count": 18,
   "id": "bc7cd671",
   "metadata": {},
   "outputs": [],
   "source": [
    "from nltk import FreqDist\n",
    "fdist = FreqDist(textN) #скільки разів кожне слово зустрічається в тексті"
   ]
  },
  {
   "cell_type": "code",
   "execution_count": 21,
   "id": "296871ba",
   "metadata": {},
   "outputs": [
    {
     "name": "stdout",
     "output_type": "stream",
     "text": [
      "Hapaxes:\n",
      "['35YO', 'Security', 'Guard', 'uniform', 'below', 'Nat', 'Open', 'yr', 'M', 'door', 'e', 'feet', 'groomed', 'arts', 'Ringwood', 'surrounds', 'meaningful', 'hearing', 'ABLE', 'Phone', 'play', 'Sought', 'mutual', 'fulfillment', 'ALONE']\n"
     ]
    }
   ],
   "source": [
    "hapaxes = fdist.hapaxes()\n",
    "print(\"Hapaxes:\")\n",
    "print(hapaxes[:25])"
   ]
  },
  {
   "cell_type": "raw",
   "id": "aecc5253",
   "metadata": {},
   "source": [
    "#слова, які зустрічаються менше 5 разів"
   ]
  },
  {
   "cell_type": "code",
   "execution_count": 22,
   "id": "5e6b0375",
   "metadata": {},
   "outputs": [
    {
     "name": "stdout",
     "output_type": "stream",
     "text": [
      "Слова, які зустрічаються менше 5 разів:\n",
      "['older', 'friendly', 'fem', 'working', 'old', 'sports', 'away', 'professional', 'same', 'generous', 'European', 'c', '39', 'financially', 'on', '58', 'Age', 'SLIM', 'CARING', 'my', 'person', 'BUSINESSMAN', 'outdoor', '(', 'sense']\n"
     ]
    }
   ],
   "source": [
    "less_than_5 = [word for word in fdist if fdist[word] < 5]\n",
    "print(\"Слова, які зустрічаються менше 5 разів:\")\n",
    "print(less_than_5[:25])"
   ]
  },
  {
   "cell_type": "code",
   "execution_count": 27,
   "id": "5de18b35",
   "metadata": {},
   "outputs": [
    {
     "data": {
      "image/png": "[encoded data removed]",
      "text/plain": [
       "<Figure size 1000x600 with 1 Axes>"
      ]
     },
     "metadata": {},
     "output_type": "display_data"
    }
   ],
   "source": [
    "import matplotlib.pyplot as plt\n",
    "\n",
    "length_freq = {}\n",
    "\n",
    "for word in fdist:\n",
    "    length = len(word)\n",
    "    length_freq[length] = length_freq.get(length, 0) + fdist[word]\n",
    "\n",
    "plt.figure(figsize=(10, 6))\n",
    "plt.bar(length_freq.keys(), length_freq.values(), color='skyblue')\n",
    "plt.xlabel('Довжина слова')\n",
    "plt.ylabel('Частота')\n",
    "plt.title('Відповідність довжини слова до його частоти')\n",
    "plt.grid(True)\n",
    "plt.show()\n"
   ]
  },
  {
   "cell_type": "code",
   "execution_count": 31,
   "id": "0b25799a",
   "metadata": {},
   "outputs": [
    {
     "name": "stdout",
     "output_type": "stream",
     "text": [
      "Top 10 most frequent words at sentence ends (excluding punctuation):\n",
      "relationship: 20\n",
      "rship: 13\n",
      "o: 8\n",
      "times: 7\n",
      "suburbs: 7\n",
      "me: 5\n",
      "med: 5\n",
      "drinker: 5\n",
      "open: 5\n",
      "ship: 5\n"
     ]
    }
   ],
   "source": [
    "import string\n",
    "from nltk.tokenize import sent_tokenize, word_tokenize\n",
    "from nltk.probability import FreqDist\n",
    "\n",
    "#перетворюємо textN у рядок\n",
    "text_str = ' '.join(textN)\n",
    "\n",
    "#токенізуємо на речення\n",
    "sentences = sent_tokenize(text_str)\n",
    "\n",
    "#збираємо останні слова речень\n",
    "last_words = []\n",
    "for sentence in sentences:\n",
    "    words = word_tokenize(sentence)\n",
    "    #перевіримо, чи є слова і чи останнє не є розділовим знаком\n",
    "    while words and words[-1] in string.punctuation:\n",
    "        words = words[:-1]  # Відкидаємо пунктуацію в кінці\n",
    "    if words:\n",
    "        last_word = words[-1]\n",
    "        if last_word.isalpha():  # Тільки слова, не числа і не пунктуація\n",
    "            last_words.append(last_word.lower())  # Приводимо до нижнього регістру\n",
    "\n",
    "#cтворюємо розподіл частот\n",
    "end_word_freq = FreqDist(last_words)\n",
    "\n",
    "# топ-10 найчастіших\n",
    "top_10_end_words = end_word_freq.most_common(10)\n",
    "\n",
    "print(\"Top 10 most frequent words at sentence ends (excluding punctuation):\")\n",
    "for word, freq in top_10_end_words:\n",
    "    print(f\"{word}: {freq}\")\n"
   ]
  },
  {
   "cell_type": "code",
   "execution_count": 12,
   "id": "9af15ebc",
   "metadata": {},
   "outputs": [
    {
     "name": "stdout",
     "output_type": "stream",
     "text": [
      "Displaying 2 of 2 matches:\n",
      "It is a truth universally acknowledged , that a si\n",
      "irst entering a neighbourhood , this truth is so well fixed in the minds of the\n",
      "\n"
     ]
    },
    {
     "data": {
      "image/png": "[encoded data removed]",
      "text/plain": [
       "<Figure size 640x480 with 1 Axes>"
      ]
     },
     "metadata": {},
     "output_type": "display_data"
    }
   ],
   "source": [
    "import nltk\n",
    "import logging\n",
    "from nltk.tokenize import word_tokenize\n",
    "import matplotlib.pyplot as plt\n",
    "\n",
    "# Читання тексту з файлу\n",
    "def read_text_file(path):\n",
    "    try:\n",
    "        with open('book.txt', 'r', encoding='utf-8') as file:\n",
    "            return file.read()\n",
    "    except Exception as e:\n",
    "        logging.exception(\"Не вдалося прочитати файл\")\n",
    "        return None\n",
    "\n",
    "# Обробка\n",
    "file_path = 'book.txt'\n",
    "raw_text = read_text_file(file_path)\n",
    "\n",
    "if raw_text:\n",
    "    tokens = word_tokenize(raw_text)\n",
    "    text = nltk.Text(tokens)\n",
    "\n",
    "    # Пошук слова в контексті\n",
    "    text.concordance('truth')\n",
    "\n",
    "    # Пошук схожих слів\n",
    "    text.similar('man')\n",
    "\n",
    "    # Діаграма розподілу\n",
    "    text.dispersion_plot([\"man\", \"truth\", \"wife\", \"family\"])\n",
    "\n",
    "\n",
    "else:\n",
    "    print(\"Текст не може бути проаналізований.\")\n"
   ]
  },
  {
   "cell_type": "code",
   "execution_count": 13,
   "id": "923aafa9",
   "metadata": {},
   "outputs": [
    {
     "data": {
      "text/plain": [
       "[(',', 8),\n",
       " ('a', 6),\n",
       " ('of', 6),\n",
       " ('is', 5),\n",
       " ('that', 4),\n",
       " ('.', 4),\n",
       " ('the', 4),\n",
       " ('“', 4),\n",
       " ('”', 4),\n",
       " ('in', 3)]"
      ]
     },
     "execution_count": 13,
     "metadata": {},
     "output_type": "execute_result"
    }
   ],
   "source": [
    "nltk.FreqDist(text).most_common(10)"
   ]
  }
 ],
 "metadata": {
  "kernelspec": {
   "display_name": "Python 3 (ipykernel)",
   "language": "python",
   "name": "python3"
  },
  "language_info": {
   "codemirror_mode": {
    "name": "ipython",
    "version": 3
   },
   "file_extension": ".py",
   "mimetype": "text/x-python",
   "name": "python",
   "nbconvert_exporter": "python",
   "pygments_lexer": "ipython3",
   "version": "3.10.9"
  }
 },
 "nbformat": 4,
 "nbformat_minor": 5
}
