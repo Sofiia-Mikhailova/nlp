{
 "cells": [
  {
   "cell_type": "code",
   "execution_count": 2,
   "id": "d806357d",
   "metadata": {},
   "outputs": [
    {
     "name": "stdout",
     "output_type": "stream",
     "text": [
      "Cosine similarity between 0 and 1: 0.1199\n",
      "Cosine similarity between 0 and 40: 0.0374\n"
     ]
    },
    {
     "name": "stderr",
     "output_type": "stream",
     "text": [
      "[nltk_data] Downloading package treebank to\n",
      "[nltk_data]     C:\\Users\\HP\\AppData\\Roaming\\nltk_data...\n",
      "[nltk_data]   Package treebank is already up-to-date!\n"
     ]
    }
   ],
   "source": [
    "import nltk\n",
    "import math\n",
    "import numpy as np\n",
    "from collections import Counter\n",
    "from typing import List\n",
    "from nltk.corpus import treebank\n",
    "from nltk.tokenize import word_tokenize\n",
    "\n",
    "# Завантаження корпусу\n",
    "nltk.download('treebank')\n",
    "\n",
    "# Інтерфейс попередньої обробки тексту\n",
    "class Preprocessor:\n",
    "    @staticmethod\n",
    "    def tokenize(text: str) -> List[str]:\n",
    "        return word_tokenize(text)\n",
    "\n",
    "# Клас для побудови TF-IDF\n",
    "class TFIDFVectorizer:\n",
    "    def __init__(self, preprocessor: Preprocessor = Preprocessor()):\n",
    "        self.preprocessor = preprocessor\n",
    "        self.vocabulary = {}\n",
    "        self.idf_scores = {}\n",
    "\n",
    "    def fit(self, documents: List[str]):\n",
    "        \"\"\"Будує словник та обчислює IDF для всіх слів.\"\"\"\n",
    "        doc_tokens = [set(self.preprocessor.tokenize(doc)) for doc in documents]\n",
    "        total_docs = len(documents)\n",
    "\n",
    "        all_terms = set(term for tokens in doc_tokens for term in tokens)\n",
    "        for idx, term in enumerate(all_terms):\n",
    "            self.vocabulary[term] = idx\n",
    "            doc_count = sum(1 for tokens in doc_tokens if term in tokens)\n",
    "            self.idf_scores[term] = math.log((1 + total_docs) / (1 + doc_count)) + 1\n",
    "\n",
    "    def transform(self, documents: List[str]) -> np.ndarray:\n",
    "        \"\"\"Перетворює документи у TF-IDF матрицю.\"\"\"\n",
    "        tfidf_matrix = np.zeros((len(documents), len(self.vocabulary)))\n",
    "\n",
    "        for i, doc in enumerate(documents):\n",
    "            tokens = self.preprocessor.tokenize(doc)\n",
    "            tf_counts = Counter(tokens)\n",
    "            total_terms = len(tokens)\n",
    "\n",
    "            for term, count in tf_counts.items():\n",
    "                if term in self.vocabulary:\n",
    "                    tf = count / total_terms\n",
    "                    idf = self.idf_scores[term]\n",
    "                    idx = self.vocabulary[term]\n",
    "                    tfidf_matrix[i, idx] = tf * idf\n",
    "\n",
    "        return tfidf_matrix\n",
    "\n",
    "    def fit_transform(self, documents: List[str]) -> np.ndarray:\n",
    "        self.fit(documents)\n",
    "        return self.transform(documents)\n",
    "\n",
    "# Використання\n",
    "sentences = [\" \".join(sent) for sent in treebank.sents()[:50]]\n",
    "\n",
    "vectorizer = TFIDFVectorizer()\n",
    "tfidf_matrix = vectorizer.fit_transform(sentences)\n",
    "\n",
    "# Перевірка косинусної подібності\n",
    "def cosine_similarity(vec1: np.ndarray, vec2: np.ndarray) -> float:\n",
    "    return np.dot(vec1, vec2) / (np.linalg.norm(vec1) * np.linalg.norm(vec2))\n",
    "\n",
    "# Приклади\n",
    "similarity_0_1 = cosine_similarity(tfidf_matrix[0], tfidf_matrix[1])\n",
    "similarity_0_40 = cosine_similarity(tfidf_matrix[0], tfidf_matrix[40])\n",
    "\n",
    "print(f\"Cosine similarity between 0 and 1: {similarity_0_1:.4f}\")\n",
    "print(f\"Cosine similarity between 0 and 40: {similarity_0_40:.4f}\")\n"
   ]
  }
 ],
 "metadata": {
  "kernelspec": {
   "display_name": "Python 3 (ipykernel)",
   "language": "python",
   "name": "python3"
  },
  "language_info": {
   "codemirror_mode": {
    "name": "ipython",
    "version": 3
   },
   "file_extension": ".py",
   "mimetype": "text/x-python",
   "name": "python",
   "nbconvert_exporter": "python",
   "pygments_lexer": "ipython3",
   "version": "3.10.9"
  }
 },
 "nbformat": 4,
 "nbformat_minor": 5
}
